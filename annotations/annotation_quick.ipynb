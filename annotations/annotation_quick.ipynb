{
 "cells": [
  {
   "cell_type": "code",
   "execution_count": null,
   "metadata": {},
   "outputs": [],
   "source": [
    "# Load this\n",
    "import pandas as pd\n",
    "from PIL import Image\n",
    "import matplotlib.pyplot as plt\n",
    "import numpy as np\n",
    "import os"
   ]
  },
  {
   "cell_type": "code",
   "execution_count": null,
   "metadata": {},
   "outputs": [],
   "source": [
    "# Load this\n",
    "num_of_images = 200\n",
    "\n",
    "df_metadata = pd.read_csv(\"../data/metadata.csv\")\n",
    "image_ids = df_metadata[\"img_id\"][0:num_of_images]\n",
    "df_annotations = pd.read_csv(\"annotations.csv\")\n",
    "\n",
    "# df_annotations = pd.DataFrame({\"img_id\": image_ids, \"asta\": [\"\"]*num_of_images, \"maja\": [\"\"]*num_of_images, \"damian\": [\"\"]*num_of_images, \"jan\": [\"\"]*num_of_images, \"philip\": [\"\"]*num_of_images})\n",
    "# df_annotations.to_csv(\"annotations.csv\", index=False)"
   ]
  },
  {
   "cell_type": "code",
   "execution_count": null,
   "metadata": {},
   "outputs": [],
   "source": [
    "from dotenv import load_dotenv\n",
    "load_dotenv()\n",
    "\n",
    "images_path = os.getenv(\"IMAGE_DATA_URL_LOCAL\")\n",
    "print(images_path)\n",
    "\n",
    "# Update to your name, lower case only!!\n",
    "name = \"Damian\"\n",
    "\n",
    "my_annotations = []\n",
    "\n",
    "i = 0\n",
    "for image_id in image_ids:\n",
    "    img = np.asarray(Image.open(fr\"C:\\Users\\bruda\\OneDrive\\Escritorio\\Projects\\Images\\{image_id}\"))\n",
    "    plt.imshow(img)\n",
    "    plt.axis('off')\n",
    "    plt.show()\n",
    "    annotation = input(\"Enter annotation: \")\n",
    "    my_annotations.append(annotation)\n",
    "    plt.close()\n",
    "\n",
    "df_annotations[name] = my_annotations\n",
    "df_annotations.to_csv(\"annotations.csv\", index=False)"
   ]
  },
  {
   "cell_type": "code",
   "execution_count": null,
   "metadata": {},
   "outputs": [],
   "source": [
    "# Do not delete this\n",
    "\n",
    "df_annotations.head(200)"
   ]
  },
  {
   "cell_type": "code",
   "execution_count": null,
   "metadata": {},
   "outputs": [],
   "source": [
    "import pandas as pd\n",
    "\n",
    "df = pd.read_csv('annotations.csv')\n",
    "\n",
    "df[\"Mode\"] = df.mode(axis=1)[0]\n",
    "\n",
    "df.groupby(by=\"Mode\").aggregate({\"Mode\": \"count\"})"
   ]
  },
  {
   "cell_type": "code",
   "execution_count": null,
   "metadata": {},
   "outputs": [],
   "source": []
  }
 ],
 "metadata": {
  "kernelspec": {
   "display_name": "projects-in-ds-exam-env",
   "language": "python",
   "name": "python3"
  },
  "language_info": {
   "codemirror_mode": {
    "name": "ipython",
    "version": 3
   },
   "file_extension": ".py",
   "mimetype": "text/x-python",
   "name": "python",
   "nbconvert_exporter": "python",
   "pygments_lexer": "ipython3",
   "version": "3.10.16"
  }
 },
 "nbformat": 4,
 "nbformat_minor": 2
}
