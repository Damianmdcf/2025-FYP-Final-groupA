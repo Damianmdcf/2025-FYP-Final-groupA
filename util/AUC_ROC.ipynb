{
 "cells": [
  {
   "cell_type": "markdown",
   "metadata": {},
   "source": [
    "# Baseline AUC ROC plot"
   ]
  },
  {
   "cell_type": "code",
   "execution_count": null,
   "metadata": {},
   "outputs": [],
   "source": [
    "import matplotlib.pyplot as plt\n",
    "from sklearn.metrics import roc_curve, auc\n",
    "import pandas as pd\n",
    "\n",
    "\n",
    "def plot_roc_curve(true_y, y_prob):\n",
    "\n",
    "    fpr, tpr, thresholds = roc_curve(true_y, y_prob)\n",
    "\n",
    "    plt.figure(figsize=(6, 6))\n",
    "    plt.plot(fpr, tpr)\n",
    "    plt.plot([0, 1], [0, 1], linestyle='--', color='gray')  # Diagonal baseline\n",
    "    plt.xlabel('False Positive Rate')\n",
    "    plt.ylabel('True Positive Rate')\n",
    "    plt.title('ROC Curve - baseline')\n",
    "    plt.tight_layout()\n",
    "    plt.show()\n",
    "\n",
    "baseline_df = pd.read_csv(\"../result/results_baseline_predictions.csv\")\n",
    "\n",
    "true_y = baseline_df[\"true_label\"]\n",
    "y_prob = baseline_df[\"predicted_proba\"]\n",
    "\n",
    "plot_roc_curve(true_y, y_prob)"
   ]
  },
  {
   "cell_type": "markdown",
   "metadata": {},
   "source": [
    "# Extended AUC ROC plot"
   ]
  },
  {
   "cell_type": "code",
   "execution_count": null,
   "metadata": {},
   "outputs": [],
   "source": [
    "import matplotlib.pyplot as plt\n",
    "from sklearn.metrics import roc_curve, auc\n",
    "import pandas as pd\n",
    "\n",
    "\n",
    "def plot_roc_curve(true_y, y_prob):\n",
    "\n",
    "    fpr, tpr, thresholds = roc_curve(true_y, y_prob)\n",
    "\n",
    "    plt.figure(figsize=(6, 6))\n",
    "    plt.plot(fpr, tpr)\n",
    "    plt.plot([0, 1], [0, 1], linestyle='--', color='gray')  # Diagonal baseline\n",
    "    plt.xlabel('False Positive Rate')\n",
    "    plt.ylabel('True Positive Rate')\n",
    "    plt.title('ROC Curve - baseline')\n",
    "    plt.tight_layout()\n",
    "    plt.show()\n",
    "\n",
    "extended_df = pd.read_csv(\"../result/results_extended_predictions.csv\")\n",
    "\n",
    "true_y = extended_df[\"true_label\"]\n",
    "y_prob = extended_df[\"predicted_proba\"]\n",
    "\n",
    "plot_roc_curve(true_y, y_prob)"
   ]
  },
  {
   "cell_type": "markdown",
   "metadata": {},
   "source": [
    "# Confusion matrix baseline"
   ]
  },
  {
   "cell_type": "markdown",
   "metadata": {},
   "source": []
  },
  {
   "cell_type": "code",
   "execution_count": null,
   "metadata": {},
   "outputs": [],
   "source": [
    "import pandas as pd\n",
    "import matplotlib.pyplot as plt\n",
    "from sklearn.metrics import confusion_matrix, ConfusionMatrixDisplay\n",
    "\n",
    "# Step 2: Extract true and predicted labels\n",
    "y_true = baseline_df[\"true_label\"]\n",
    "y_pred = baseline_df[\"predicted_label\"]\n",
    "\n",
    "# Step 3: Compute and plot confusion matrix\n",
    "cm = confusion_matrix(y_true, y_pred)\n",
    "disp = ConfusionMatrixDisplay(confusion_matrix=cm, display_labels=[\"Non-melanoma\", \"Melanoma\"])\n",
    "\n",
    "# Step 4: Customize and show\n",
    "fig, ax = plt.subplots(figsize=(6, 6))\n",
    "disp.plot(cmap=\"Blues\", ax=ax, colorbar=False)\n",
    "plt.title(\"Confusion Matrix Baseline\")\n",
    "plt.tight_layout()\n",
    "plt.show()\n"
   ]
  },
  {
   "cell_type": "markdown",
   "metadata": {},
   "source": [
    "# Confusion Matrix Extended"
   ]
  },
  {
   "cell_type": "code",
   "execution_count": null,
   "metadata": {},
   "outputs": [],
   "source": [
    "import pandas as pd\n",
    "import matplotlib.pyplot as plt\n",
    "from sklearn.metrics import confusion_matrix, ConfusionMatrixDisplay\n",
    "\n",
    "# Step 2: Extract true and predicted labels\n",
    "y_true = extended_df[\"true_label\"]\n",
    "y_pred = extended_df[\"predicted_label\"]\n",
    "\n",
    "# Step 3: Compute and plot confusion matrix\n",
    "cm = confusion_matrix(y_true, y_pred)\n",
    "disp = ConfusionMatrixDisplay(confusion_matrix=cm, display_labels=[\"Non-melanoma\", \"Melanoma\"])\n",
    "\n",
    "# Step 4: Customize and show\n",
    "fig, ax = plt.subplots(figsize=(6, 6))\n",
    "disp.plot(cmap=\"Blues\", ax=ax, colorbar=False)\n",
    "plt.title(\"Confusion Matrix Extended\")\n",
    "plt.tight_layout()\n",
    "plt.show()"
   ]
  }
 ],
 "metadata": {
  "kernelspec": {
   "display_name": "base",
   "language": "python",
   "name": "python3"
  },
  "language_info": {
   "codemirror_mode": {
    "name": "ipython",
    "version": 3
   },
   "file_extension": ".py",
   "mimetype": "text/x-python",
   "name": "python",
   "nbconvert_exporter": "python",
   "pygments_lexer": "ipython3",
   "version": "3.12.4"
  }
 },
 "nbformat": 4,
 "nbformat_minor": 2
}
