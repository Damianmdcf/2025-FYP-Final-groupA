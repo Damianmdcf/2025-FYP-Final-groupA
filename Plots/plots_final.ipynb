{
 "cells": [
  {
   "cell_type": "code",
   "execution_count": null,
   "id": "0",
   "metadata": {},
   "outputs": [],
   "source": [
    "from util.img_util import ImageDataLoader\n",
    "from util.feature_A import crop\n",
    "from dotenv import load_dotenv\n",
    "import os\n",
    "import matplotlib.pyplot as plt\n",
    "import matplotlib.image as mpimg\n",
    "load_dotenv()\n",
    "\n",
    "images_path = os.getenv(\"IMAGE_DATA_URL_LOCAL\")\n",
    "mask_path = os.getenv(\"MASK_DATA_URL_LOCAL\")"
   ]
  },
  {
   "cell_type": "code",
   "execution_count": null,
   "id": "1",
   "metadata": {},
   "outputs": [],
   "source": [
    "loader = ImageDataLoader(images_path, mask_path, hairless=False, augmentation=True)\n",
    "\n",
    "working_img = \"../images/PAT_233_354_828.png\"\n",
    "img_id, img_rgb, manual_mask, mask, noise_img, contrast_img, contrast_mask, extra_border_mask, assymetry, _border, color, assymetry_noise, _border_noise, color_noise, assymetry_contrast, _border_contrast, color_contrast, assymetry_extra_border, _border_extra_border, color_extra_border = loader.one_image(working_img)"
   ]
  },
  {
   "cell_type": "code",
   "execution_count": null,
   "id": "2",
   "metadata": {},
   "outputs": [],
   "source": [
    "labels = [\"Original\", \"Augmented extra border\"]\n",
    "\n",
    "original_text = f\"A = {round(assymetry, 2)}, B = {round(_border, 2)}, C = {round(color, 5)}\"\n",
    "augmented_text = f\"A = {round(assymetry_extra_border, 2)}, B = {round(_border_extra_border, 2)}, C = {round(color_extra_border, 5)}\"\n",
    "\n",
    "abc = [original_text, augmented_text]\n",
    "\n",
    "# Create subplot with 3 columns, 1 row\n",
    "fig, axes = plt.subplots(1, 2, figsize=(7, 5))\n",
    "\n",
    "i = 0\n",
    "for ax, img, label in zip(axes, [crop(mask), crop(extra_border_mask)], labels):\n",
    "    ax.imshow(img, cmap=\"gray\")\n",
    "    ax.set_title(label, fontsize=14)\n",
    "    ax.axis('off')\n",
    "    ax.text(0.5, -0.1, abc[i], fontsize=12, ha='center', transform=ax.transAxes)\n",
    "    i += 1\n",
    "\n",
    "plt.tight_layout()\n",
    "plt.show()"
   ]
  },
  {
   "cell_type": "code",
   "execution_count": null,
   "id": "3",
   "metadata": {},
   "outputs": [],
   "source": [
    "labels = [\"Original\", \"Augmented contrast\"]\n",
    "\n",
    "original_text = f\"A = {round(assymetry, 2)}, B = {round(_border, 2)}, C = {round(color, 5)}\"\n",
    "augmented_text = f\"A = {round(assymetry_contrast, 2)}, B = {round(_border_contrast, 2)}, C = {round(color_contrast, 5)}\"\n",
    "\n",
    "abc = [original_text, augmented_text]\n",
    "\n",
    "# Create subplot with 3 columns, 1 row\n",
    "fig, axes = plt.subplots(1, 2, figsize=(7, 5))\n",
    "\n",
    "i = 0\n",
    "for ax, img, label in zip(axes, [img_rgb, contrast_img], labels):\n",
    "    ax.imshow(img)\n",
    "    ax.set_title(label, fontsize=14)\n",
    "    ax.axis('off')\n",
    "    ax.text(0.5, -0.1, abc[i], fontsize=12, ha='center', transform=ax.transAxes)\n",
    "    i += 1\n",
    "\n",
    "plt.tight_layout()\n",
    "plt.show()"
   ]
  },
  {
   "cell_type": "code",
   "execution_count": null,
   "id": "4",
   "metadata": {},
   "outputs": [],
   "source": [
    "labels = [\"Original\", \"Augmented noise\"]\n",
    "\n",
    "original_text = f\"A = {round(assymetry, 2)}, B = {round(_border, 2)}, C = {round(color, 3)}\"\n",
    "augmented_text = f\"A = {round(assymetry_noise, 2)}, B = {round(_border_noise, 2)}, C = {round(color_noise, 3)}\"\n",
    "\n",
    "abc = [original_text, augmented_text]\n",
    "\n",
    "# Create subplot with 3 columns, 1 row\n",
    "fig, axes = plt.subplots(1, 2, figsize=(7, 5))\n",
    "\n",
    "i = 0\n",
    "for ax, img, label in zip(axes, [img_rgb, noise_img], labels):\n",
    "    ax.imshow(img)\n",
    "    ax.set_title(label, fontsize=14)\n",
    "    ax.axis('off')\n",
    "    ax.text(0.5, -0.1, abc[i], fontsize=12, ha='center', transform=ax.transAxes)\n",
    "    i += 1\n",
    "\n",
    "plt.tight_layout()\n",
    "plt.show()"
   ]
  },
  {
   "cell_type": "code",
   "execution_count": null,
   "id": "5",
   "metadata": {},
   "outputs": [],
   "source": [
    "loader = ImageDataLoader(images_path, mask_path, hairless=True, augmentation=False)\n",
    "\n",
    "working_img = \"../sample_001.jpg\"\n",
    "img_id, img_rgb, tresh, img_rgb_hairless, manual_mask, mask, assymetry, _border, color = loader.one_image(working_img)"
   ]
  },
  {
   "cell_type": "code",
   "execution_count": null,
   "id": "6",
   "metadata": {},
   "outputs": [],
   "source": [
    "loader = ImageDataLoader(images_path, mask_path, hairless=True, augmentation=False)\n",
    "\n",
    "working_img = \"../images/PAT_1402_1376_160.png\"\n",
    "img_id, img_rgb, tresh, img_rgb_hairless, manual_mask, mask, assymetry, _border, color = loader.one_image(working_img)"
   ]
  },
  {
   "cell_type": "code",
   "execution_count": null,
   "id": "7",
   "metadata": {},
   "outputs": [],
   "source": [
    "print(assymetry, _border, color)\n",
    "plt.imshow(mask, \"gray\")\n",
    "plt.axis(\"off\")\n",
    "\n",
    "print(mask)"
   ]
  },
  {
   "cell_type": "code",
   "execution_count": null,
   "id": "8",
   "metadata": {},
   "outputs": [],
   "source": [
    "labels = [\"Original\", \"Binary\", \"Hair removed\"]\n",
    "\n",
    "# Create subplot with 3 columns, 1 row\n",
    "fig, axes = plt.subplots(1, 3, figsize=(12, 4))\n",
    "\n",
    "for ax, img, label in zip(axes, [img_rgb, tresh, img_rgb_hairless], labels):\n",
    "    ax.imshow(img, cmap=\"gray\")\n",
    "    ax.set_title(label)\n",
    "    ax.axis('off')  # Hide axis ticks\n",
    "\n",
    "plt.tight_layout()\n",
    "plt.show()"
   ]
  },
  {
   "cell_type": "code",
   "execution_count": null,
   "id": "9",
   "metadata": {},
   "outputs": [],
   "source": [
    "labels = [\"Original\", \"Hair removed\"]\n",
    "\n",
    "# Create subplot with 3 columns, 1 row\n",
    "fig, axes = plt.subplots(1, 2, figsize=(12, 4))\n",
    "\n",
    "for ax, img, label in zip(axes, [img_rgb, img_rgb_hairless, mask], labels):\n",
    "    ax.imshow(img, cmap=\"gray\")\n",
    "    ax.set_title(label)\n",
    "    ax.axis('off')  # Hide axis ticks\n",
    "\n",
    "plt.tight_layout()\n",
    "plt.show()"
   ]
  },
  {
   "cell_type": "markdown",
   "id": "001680ce",
   "metadata": {},
   "source": [
    "## Box plot to compare classifiers"
   ]
  },
  {
   "cell_type": "code",
   "execution_count": null,
   "id": "86c2f266",
   "metadata": {},
   "outputs": [],
   "source": [
    "import pandas as pd\n",
    "import matplotlib.pyplot as plt\n",
    "from pathlib import Path\n",
    "\n",
    "metrics_csv = Path(\"..\") / \"data\" / \"result-OQ-smote.csv\"\n",
    "df = pd.read_csv(metrics_csv)\n",
    "\n",
    "# gather F1 / AUC into long form\n",
    "f1_cols  = [c for c in df.columns if c.startswith(\"F1_fold\")]\n",
    "auc_cols = [c for c in df.columns if c.startswith(\"AUC_fold\")]\n",
    "\n",
    "long_f1  = df.melt(id_vars=\"Model\", value_vars=f1_cols,\n",
    "                   var_name=\"Fold\", value_name=\"Value\")\n",
    "long_f1[\"Metric\"] = \"F1\"\n",
    "\n",
    "long_auc = df.melt(id_vars=\"Model\", value_vars=auc_cols,\n",
    "                   var_name=\"Fold\", value_name=\"Value\")\n",
    "long_auc[\"Metric\"] = \"AUC\"\n",
    "\n",
    "long_df = pd.concat([long_f1, long_auc])\n",
    "\n",
    "# colors to use\n",
    "box_color = \"purple\"\n",
    "median_color = \"black\"\n",
    "\n",
    "fig, axes = plt.subplots(2, 1, figsize=(10, 15), sharey=False)\n",
    "\n",
    "for ax, metric in zip(axes, [\"AUC\", \"F1\"]):\n",
    "    data = long_df[long_df[\"Metric\"] == metric]\n",
    "    bp = data.boxplot(\n",
    "        column=\"Value\",\n",
    "        by=\"Model\",\n",
    "        ax=ax,\n",
    "        patch_artist=True,               \n",
    "        boxprops=dict(facecolor=box_color, color=box_color),\n",
    "        medianprops=dict(color=median_color),\n",
    "        whiskerprops=dict(color=box_color),\n",
    "        capprops=dict(color=box_color),\n",
    "        flierprops=dict(markeredgecolor=box_color)\n",
    "    )\n",
    "    ax.set_title(f\"{metric} across folds\")\n",
    "    ax.set_xlabel(\"Model\")\n",
    "    ax.set_ylabel(metric)\n",
    "    ax.tick_params(axis=\"x\", rotation=90)\n",
    "\n",
    "    if metric == \"AUC\":\n",
    "        ax.set_ylim(0.3, 0.9)\n",
    "    if metric == \"F1\":\n",
    "        ax.set_ylim(-0.1, 0.5)\n",
    "\n",
    "plt.suptitle(\"Box-plots of AUC and F1 per fold OQ SMOTE Model\")\n",
    "plt.tight_layout()\n",
    "plt.show()"
   ]
  },
  {
   "cell_type": "markdown",
   "id": "bfc97c48",
   "metadata": {},
   "source": [
    "## Comparasion matrix for features"
   ]
  },
  {
   "cell_type": "code",
   "execution_count": null,
   "id": "b466e2d7",
   "metadata": {},
   "outputs": [],
   "source": [
    "import pandas as pd\n",
    "import seaborn as sns\n",
    "import matplotlib.pyplot as plt\n",
    "\n",
    "\n",
    "features_csv = Path(\"..\") / \"data\" / \"baseline-data-for-model.csv\"\n",
    "df = pd.read_csv(features_csv)\n",
    "\n",
    "# Rename features if needed\n",
    "df = df.rename(columns={\n",
    "    'Z_feature_a': 'Asymmetry',\n",
    "    'Z_feature_b': 'Border',\n",
    "    'Z_feature_c': 'Color'\n",
    "})\n",
    "\n",
    "# Create PairGrid\n",
    "g = sns.PairGrid(df, vars=['Asymmetry', 'Border', 'Color'], hue='Melanoma', palette={0: 'steelblue', 1: 'red'})\n",
    "\n",
    "# Scatter plots in lower triangle\n",
    "g.map_lower(sns.scatterplot, alpha=0.8, s=30)\n",
    "\n",
    "# KDE plots on diagonal\n",
    "g.map_diag(sns.kdeplot, common_norm=False, fill=True, alpha=0.4)\n",
    "\n",
    "# upper triangle\n",
    "g.map_upper(sns.scatterplot, alpha=0.8, s=30)\n",
    "\n",
    "g.add_legend(title='Melanoma')\n",
    "plt.suptitle(\"Asymmetry, Border, and Color by Melanoma Standarized\", y=1.02)\n",
    "plt.tight_layout()\n",
    "plt.show()"
   ]
  },
  {
   "cell_type": "markdown",
   "id": "c43da63f",
   "metadata": {},
   "source": [
    "## Example of inaccurate mask"
   ]
  },
  {
   "cell_type": "code",
   "execution_count": null,
   "id": "71ed470a",
   "metadata": {},
   "outputs": [],
   "source": [
    "import matplotlib.pyplot as plt\n",
    "import matplotlib.image as mpimg\n",
    "\n",
    "# Load the original and augmented images\n",
    "original_img = mpimg.imread('pictureplot/image.png')\n",
    "augmented_img = mpimg.imread('pictureplot/image copy.png')\n",
    "\n",
    "# Create side-by-side plots\n",
    "fig, axes = plt.subplots(1, 2, figsize=(10, 5))\n",
    "\n",
    "# Titles for each image\n",
    "titles = ['Original', 'Mask']\n",
    "images = [original_img, augmented_img]\n",
    "\n",
    "for ax, title, image in zip(axes, titles, images):\n",
    "    ax.imshow(image)\n",
    "    ax.axis('off')\n",
    "    ax.set_title(title, fontsize=14)\n",
    "\n",
    "plt.tight_layout()\n",
    "plt.show()"
   ]
  }
 ],
 "metadata": {
  "kernelspec": {
   "display_name": "projects-in-ds-exam-env",
   "language": "python",
   "name": "python3"
  },
  "language_info": {
   "codemirror_mode": {
    "name": "ipython",
    "version": 3
   },
   "file_extension": ".py",
   "mimetype": "text/x-python",
   "name": "python",
   "nbconvert_exporter": "python",
   "pygments_lexer": "ipython3",
   "version": "3.10.16"
  }
 },
 "nbformat": 4,
 "nbformat_minor": 5
}
