{
 "cells": [
  {
   "cell_type": "code",
   "execution_count": null,
   "id": "0",
   "metadata": {},
   "outputs": [],
   "source": [
    "from util.img_util import ImageDataLoader\n",
    "from util.feature_A import crop\n",
    "from dotenv import load_dotenv\n",
    "import os\n",
    "import matplotlib.pyplot as plt\n",
    "import matplotlib.image as mpimg\n",
    "load_dotenv()\n",
    "\n",
    "images_path = os.getenv(\"IMAGE_DATA_URL_LOCAL\")\n",
    "mask_path = os.getenv(\"MASK_DATA_URL_LOCAL\")"
   ]
  },
  {
   "cell_type": "code",
   "execution_count": null,
   "id": "1",
   "metadata": {},
   "outputs": [],
   "source": [
    "loader = ImageDataLoader(images_path, mask_path, hairless=False, augmentation=True)\n",
    "\n",
    "working_img = \"../images/PAT_233_354_828.png\"\n",
    "img_id, img_rgb, manual_mask, mask, noise_img, contrast_img, contrast_mask, extra_border_mask, assymetry, _border, color, assymetry_noise, _border_noise, color_noise, assymetry_contrast, _border_contrast, color_contrast, assymetry_extra_border, _border_extra_border, color_extra_border = loader.one_image(working_img)"
   ]
  },
  {
   "cell_type": "code",
   "execution_count": null,
   "id": "2",
   "metadata": {},
   "outputs": [],
   "source": [
    "labels = [\"Original\", \"Augmented extra border\"]\n",
    "\n",
    "original_text = f\"A = {round(assymetry, 2)}, B = {round(_border, 2)}, C = {round(color, 5)}\"\n",
    "augmented_text = f\"A = {round(assymetry_extra_border, 2)}, B = {round(_border_extra_border, 2)}, C = {round(color_extra_border, 5)}\"\n",
    "\n",
    "abc = [original_text, augmented_text]\n",
    "\n",
    "# Create subplot with 3 columns, 1 row\n",
    "fig, axes = plt.subplots(1, 2, figsize=(7, 5))\n",
    "\n",
    "i = 0\n",
    "for ax, img, label in zip(axes, [crop(mask), crop(extra_border_mask)], labels):\n",
    "    ax.imshow(img, cmap=\"gray\")\n",
    "    ax.set_title(label, fontsize=14)\n",
    "    ax.axis('off')\n",
    "    ax.text(0.5, -0.1, abc[i], fontsize=12, ha='center', transform=ax.transAxes)\n",
    "    i += 1\n",
    "\n",
    "plt.tight_layout()\n",
    "plt.show()"
   ]
  },
  {
   "cell_type": "code",
   "execution_count": null,
   "id": "3",
   "metadata": {},
   "outputs": [],
   "source": [
    "labels = [\"Original\", \"Augmented contrast\"]\n",
    "\n",
    "original_text = f\"A = {round(assymetry, 2)}, B = {round(_border, 2)}, C = {round(color, 5)}\"\n",
    "augmented_text = f\"A = {round(assymetry_contrast, 2)}, B = {round(_border_contrast, 2)}, C = {round(color_contrast, 5)}\"\n",
    "\n",
    "abc = [original_text, augmented_text]\n",
    "\n",
    "# Create subplot with 3 columns, 1 row\n",
    "fig, axes = plt.subplots(1, 2, figsize=(7, 5))\n",
    "\n",
    "i = 0\n",
    "for ax, img, label in zip(axes, [img_rgb, contrast_img], labels):\n",
    "    ax.imshow(img)\n",
    "    ax.set_title(label, fontsize=14)\n",
    "    ax.axis('off')\n",
    "    ax.text(0.5, -0.1, abc[i], fontsize=12, ha='center', transform=ax.transAxes)\n",
    "    i += 1\n",
    "\n",
    "plt.tight_layout()\n",
    "plt.show()"
   ]
  },
  {
   "cell_type": "code",
   "execution_count": null,
   "id": "4",
   "metadata": {},
   "outputs": [],
   "source": [
    "labels = [\"Original\", \"Augmented noise\"]\n",
    "\n",
    "original_text = f\"A = {round(assymetry, 2)}, B = {round(_border, 2)}, C = {round(color, 3)}\"\n",
    "augmented_text = f\"A = {round(assymetry_noise, 2)}, B = {round(_border_noise, 2)}, C = {round(color_noise, 3)}\"\n",
    "\n",
    "abc = [original_text, augmented_text]\n",
    "\n",
    "# Create subplot with 3 columns, 1 row\n",
    "fig, axes = plt.subplots(1, 2, figsize=(7, 5))\n",
    "\n",
    "i = 0\n",
    "for ax, img, label in zip(axes, [img_rgb, noise_img], labels):\n",
    "    ax.imshow(img)\n",
    "    ax.set_title(label, fontsize=14)\n",
    "    ax.axis('off')\n",
    "    ax.text(0.5, -0.1, abc[i], fontsize=12, ha='center', transform=ax.transAxes)\n",
    "    i += 1\n",
    "\n",
    "plt.tight_layout()\n",
    "plt.show()"
   ]
  },
  {
   "cell_type": "code",
   "execution_count": null,
   "id": "5",
   "metadata": {},
   "outputs": [],
   "source": [
    "loader = ImageDataLoader(images_path, mask_path, hairless=True, augmentation=False)\n",
    "\n",
    "working_img = \"../sample_001.jpg\"\n",
    "img_id, img_rgb, tresh, img_rgb_hairless, manual_mask, mask, assymetry, _border, color = loader.one_image(working_img)"
   ]
  },
  {
   "cell_type": "code",
   "execution_count": null,
   "id": "6",
   "metadata": {},
   "outputs": [],
   "source": [
    "loader = ImageDataLoader(images_path, mask_path, hairless=True, augmentation=False)\n",
    "\n",
    "working_img = \"../images/PAT_1402_1376_160.png\"\n",
    "img_id, img_rgb, tresh, img_rgb_hairless, manual_mask, mask, assymetry, _border, color = loader.one_image(working_img)"
   ]
  },
  {
   "cell_type": "code",
   "execution_count": null,
   "id": "7",
   "metadata": {},
   "outputs": [],
   "source": [
    "print(assymetry, _border, color)\n",
    "plt.imshow(mask, \"gray\")\n",
    "plt.axis(\"off\")\n",
    "\n",
    "print(mask)"
   ]
  },
  {
   "cell_type": "code",
   "execution_count": null,
   "id": "8",
   "metadata": {},
   "outputs": [],
   "source": [
    "labels = [\"Original\", \"Binary\", \"Hair removed\"]\n",
    "\n",
    "# Create subplot with 3 columns, 1 row\n",
    "fig, axes = plt.subplots(1, 3, figsize=(12, 4))\n",
    "\n",
    "for ax, img, label in zip(axes, [img_rgb, tresh, img_rgb_hairless], labels):\n",
    "    ax.imshow(img, cmap=\"gray\")\n",
    "    ax.set_title(label)\n",
    "    ax.axis('off')  # Hide axis ticks\n",
    "\n",
    "plt.tight_layout()\n",
    "plt.show()"
   ]
  },
  {
   "cell_type": "code",
   "execution_count": null,
   "id": "9",
   "metadata": {},
   "outputs": [],
   "source": [
    "labels = [\"Original\", \"Hair removed\"]\n",
    "\n",
    "# Create subplot with 3 columns, 1 row\n",
    "fig, axes = plt.subplots(1, 2, figsize=(12, 4))\n",
    "\n",
    "for ax, img, label in zip(axes, [img_rgb, img_rgb_hairless, mask], labels):\n",
    "    ax.imshow(img, cmap=\"gray\")\n",
    "    ax.set_title(label)\n",
    "    ax.axis('off')  # Hide axis ticks\n",
    "\n",
    "plt.tight_layout()\n",
    "plt.show()"
   ]
  }
 ],
 "metadata": {
  "kernelspec": {
   "display_name": "projects-in-ds-exam-env",
   "language": "python",
   "name": "python3"
  },
  "language_info": {
   "codemirror_mode": {
    "name": "ipython",
    "version": 3
   },
   "file_extension": ".py",
   "mimetype": "text/x-python",
   "name": "python",
   "nbconvert_exporter": "python",
   "pygments_lexer": "ipython3",
   "version": "3.10.16"
  }
 },
 "nbformat": 4,
 "nbformat_minor": 5
}
